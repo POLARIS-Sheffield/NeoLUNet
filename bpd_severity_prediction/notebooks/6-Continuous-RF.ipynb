{
 "cells": [
  {
   "cell_type": "code",
   "execution_count": 1,
   "id": "fb55f2f4",
   "metadata": {},
   "outputs": [],
   "source": [
    "import warnings\n",
    "warnings.filterwarnings('ignore')"
   ]
  },
  {
   "cell_type": "markdown",
   "id": "73af9102",
   "metadata": {},
   "source": [
    "## Regression-Continuous\n"
   ]
  },
  {
   "cell_type": "code",
   "execution_count": 2,
   "id": "2ec0ffea",
   "metadata": {},
   "outputs": [],
   "source": [
    "import pandas as pd\n",
    "\n",
    "from sklearn import metrics\n",
    "from sklearn.model_selection import StratifiedKFold\n",
    "from sklearn.model_selection import GridSearchCV\n",
    "from sklearn.ensemble import RandomForestRegressor"
   ]
  },
  {
   "cell_type": "code",
   "execution_count": 3,
   "id": "074bb7c9",
   "metadata": {},
   "outputs": [],
   "source": [
    "df_full = pd.read_csv('../data/regression_lufu_2021-08-03.csv')"
   ]
  },
  {
   "cell_type": "code",
   "execution_count": 4,
   "id": "7724b00a",
   "metadata": {},
   "outputs": [],
   "source": [
    "selected = [\n",
    "    'id', 'gender', 'apgar_5min',\n",
    "    'respiration_inv_days',\n",
    "    'respiration_non_inv_days',\n",
    "    'early_onset_infection', 'steroids', 'bpd_severity',\n",
    "    'gest_age', 'birth_weight_g','body_size_cm',\n",
    "    'volume', 'volume_ratio', 'oxygen_demand_days'\n",
    "]\n",
    "\n",
    "gender_dict = {'f':0, 'm':1}\n",
    "\n",
    "df_regression=df_full[selected]\n",
    "df_regression['resp_support_days']=df_regression['respiration_inv_days']+df_regression['respiration_non_inv_days']\n",
    "\n",
    "df_regression.replace({\"gender\": gender_dict}, inplace=True)"
   ]
  },
  {
   "cell_type": "code",
   "execution_count": 5,
   "id": "84f720e7",
   "metadata": {},
   "outputs": [],
   "source": [
    "# Create volume variable but normalized by the birth weight\n",
    "df_regression['volume_per_kg'] = 1000*df_regression['volume']/df_regression['birth_weight_g']"
   ]
  },
  {
   "cell_type": "code",
   "execution_count": 6,
   "id": "fd629c17",
   "metadata": {},
   "outputs": [],
   "source": [
    "def nested_cross_validation(X, y, depth_array, random_states, n_splits_outer=5, n_splits_inner=3):\n",
    "    \n",
    "    model_weights = []\n",
    "    grid_best_scores = []\n",
    "    grid_best_ps = []\n",
    "    \n",
    "    mse = []\n",
    "    mae = []\n",
    "    \n",
    "    outer_fold = []\n",
    "    repetition_n = []\n",
    "    \n",
    "    for j in range(len(random_states)):\n",
    "        random_state_i = random_states[j]\n",
    "        \n",
    "        N=10\n",
    "\n",
    "        p_grid = {\n",
    "            \"max_depth\": depth_array,\n",
    "                 }\n",
    "        \n",
    "        model_grid = RandomForestRegressor( \n",
    "            random_state=random_state_i\n",
    "        )\n",
    "\n",
    "        # OUTER FOLD\n",
    "        outter_cv = StratifiedKFold(n_splits=n_splits_outer, shuffle=True, random_state=random_state_i).split(X, y)\n",
    "        \n",
    "        for i, (train, test) in enumerate(outter_cv):\n",
    "            x_train = X.loc[train]\n",
    "            y_train = y.loc[train]\n",
    "            x_test = X.loc[test]\n",
    "            y_test = y.loc[test]\n",
    "\n",
    "            # Inner Fold => Find the best parameter\n",
    "            inner_cv = StratifiedKFold(n_splits=n_splits_inner, shuffle=True, random_state=random_state_i)\n",
    "            grid = GridSearchCV(estimator=model_grid, param_grid=p_grid, cv=inner_cv)\n",
    "            grid.fit(x_train,y_train)\n",
    "            grid_best_scores.append(grid.best_score_)\n",
    "            grid_best_ps.append(grid.best_estimator_.max_depth)\n",
    "\n",
    "            # Use the best parameter of the inner fold on the test\n",
    "            model_rf = RandomForestRegressor(\n",
    "                random_state=random_state_i, \n",
    "                max_depth=grid.best_estimator_.max_depth\n",
    "            ).fit(x_train, y_train)\n",
    "\n",
    "            model_weights.append(model_rf.feature_importances_)\n",
    "            \n",
    "            predictions = model_rf.predict(x_test)\n",
    "\n",
    "            mse_temp = metrics.mean_squared_error(y_test, predictions)\n",
    "            mae_temp = metrics.mean_absolute_error(y_test, predictions) # this\n",
    "\n",
    "            mse.append(mse_temp)\n",
    "            mae.append(mae_temp)\n",
    "            \n",
    "            outer_fold.append(i)\n",
    "            repetition_n.append(j)\n",
    "            \n",
    "    df_results = pd.DataFrame.from_dict({\n",
    "    'repetition_n':repetition_n,\n",
    "    'outer_fold':outer_fold,\n",
    "    'mse': mse,\n",
    "    'mae': mae,\n",
    "    'model_coefs': model_weights,\n",
    "    })\n",
    "\n",
    "    return df_results"
   ]
  },
  {
   "cell_type": "markdown",
   "id": "9462a64d",
   "metadata": {},
   "source": [
    "# Nested Cross Validation for RF Regression"
   ]
  },
  {
   "cell_type": "code",
   "execution_count": 7,
   "id": "4982a6bc",
   "metadata": {},
   "outputs": [],
   "source": [
    "random_array = [1,50,234,3,5,789,45,658,9,429]\n",
    "tree_depth = [3,4,5,6,7,8,9,10]"
   ]
  },
  {
   "cell_type": "markdown",
   "id": "6612713b",
   "metadata": {},
   "source": [
    "## Only Volume"
   ]
  },
  {
   "cell_type": "code",
   "execution_count": 8,
   "id": "d6d32217",
   "metadata": {},
   "outputs": [
    {
     "name": "stdout",
     "output_type": "stream",
     "text": [
      "14.152260808934988\n",
      "2.126290784233166\n"
     ]
    }
   ],
   "source": [
    "explanatory = [\n",
    "    'volume_per_kg', 'volume_ratio', \n",
    "]\n",
    "\n",
    "y=df_regression['resp_support_days']\n",
    "X=df_regression[explanatory]\n",
    "\n",
    "\n",
    "df_all_vars_poisson = nested_cross_validation(X, y, depth_array=tree_depth, random_states=random_array)\n",
    "\n",
    "print(df_all_vars_poisson['mae'].mean())\n",
    "print(df_all_vars_poisson['mae'].std())"
   ]
  },
  {
   "cell_type": "markdown",
   "id": "d623d622",
   "metadata": {},
   "source": [
    "## Vol + Patient"
   ]
  },
  {
   "cell_type": "code",
   "execution_count": 9,
   "id": "264b9c71",
   "metadata": {},
   "outputs": [
    {
     "name": "stdout",
     "output_type": "stream",
     "text": [
      "10.878333738742024\n",
      "1.6100444930769828\n"
     ]
    }
   ],
   "source": [
    "explanatory = [\n",
    "    'gender', 'gest_age', 'birth_weight_g','body_size_cm',\n",
    "    'volume_per_kg', 'volume_ratio', \n",
    "]\n",
    "\n",
    "y=df_regression['resp_support_days']\n",
    "X=df_regression[explanatory]\n",
    "\n",
    "\n",
    "df_all_vars_poisson = nested_cross_validation(X, y, depth_array=tree_depth, random_states=random_array)\n",
    "\n",
    "print(df_all_vars_poisson['mae'].mean())\n",
    "print(df_all_vars_poisson['mae'].std())"
   ]
  },
  {
   "cell_type": "markdown",
   "id": "da9551f4",
   "metadata": {},
   "source": [
    "## All vars"
   ]
  },
  {
   "cell_type": "code",
   "execution_count": 10,
   "id": "d31eaa53",
   "metadata": {},
   "outputs": [
    {
     "name": "stdout",
     "output_type": "stream",
     "text": [
      "10.78533353234225\n",
      "1.7574624256318352\n"
     ]
    }
   ],
   "source": [
    "explanatory = [\n",
    "    'gender', 'apgar_5min',\n",
    "    'early_onset_infection', 'steroids',\n",
    "    'gest_age', 'birth_weight_g','body_size_cm',\n",
    "    'volume_per_kg', 'volume_ratio', \n",
    "]\n",
    "\n",
    "y=df_regression['resp_support_days']\n",
    "X=df_regression[explanatory]\n",
    "\n",
    "df_all_vars_poisson = nested_cross_validation(X, y, depth_array=tree_depth, random_states=random_array)\n",
    "\n",
    "print(df_all_vars_poisson['mae'].mean())\n",
    "print(df_all_vars_poisson['mae'].std())"
   ]
  },
  {
   "cell_type": "code",
   "execution_count": null,
   "id": "e4473d60",
   "metadata": {},
   "outputs": [],
   "source": []
  }
 ],
 "metadata": {
  "kernelspec": {
   "display_name": "Python 3",
   "language": "python",
   "name": "python3"
  },
  "language_info": {
   "codemirror_mode": {
    "name": "ipython",
    "version": 3
   },
   "file_extension": ".py",
   "mimetype": "text/x-python",
   "name": "python",
   "nbconvert_exporter": "python",
   "pygments_lexer": "ipython3",
   "version": "3.8.8"
  }
 },
 "nbformat": 4,
 "nbformat_minor": 5
}
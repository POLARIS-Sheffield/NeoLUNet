{
 "cells": [
  {
   "cell_type": "code",
   "execution_count": 1,
   "metadata": {},
   "outputs": [],
   "source": [
    "import pandas as pd\n",
    "import numpy as np\n",
    "import seaborn as sns\n",
    "import matplotlib.pyplot as plt\n",
    "\n",
    "from sklearn.ensemble import RandomForestClassifier\n",
    "\n",
    "from sklearn.model_selection import StratifiedKFold\n",
    "from sklearn.model_selection import GridSearchCV, KFold\n",
    "\n",
    "\n",
    "from sklearn.metrics import roc_curve, auc\n",
    "from sklearn.metrics import roc_auc_score\n",
    "from sklearn.metrics import f1_score"
   ]
  },
  {
   "cell_type": "code",
   "execution_count": 2,
   "metadata": {},
   "outputs": [],
   "source": [
    "df_full = pd.read_csv('../data/regression_lufu_2021-08-03.csv')"
   ]
  },
  {
   "cell_type": "code",
   "execution_count": 3,
   "metadata": {},
   "outputs": [
    {
     "name": "stderr",
     "output_type": "stream",
     "text": [
      "/Users/castelblanco/opt/anaconda3/lib/python3.8/site-packages/pandas/core/indexing.py:1676: SettingWithCopyWarning: \n",
      "A value is trying to be set on a copy of a slice from a DataFrame.\n",
      "Try using .loc[row_indexer,col_indexer] = value instead\n",
      "\n",
      "See the caveats in the documentation: https://pandas.pydata.org/pandas-docs/stable/user_guide/indexing.html#returning-a-view-versus-a-copy\n",
      "  self._setitem_single_column(ilocs[0], value, pi)\n"
     ]
    }
   ],
   "source": [
    "# Select variables\n",
    "selected = [\n",
    "    'id', 'gender', 'apgar_5min',\n",
    "    'respiration_inv_days',\n",
    "    'respiration_non_inv_days',\n",
    "    'early_onset_infection', 'steroids', 'bpd_severity',\n",
    "    'gest_age', 'birth_weight_g','body_size_cm',\n",
    "    'volume', 'volume_ratio', \n",
    "]\n",
    "\n",
    "df_regression=df_full[selected]\n",
    "\n",
    "# Add variable of respiratory support (invasive + non-invasive)\n",
    "resp_support_days = df_regression['respiration_inv_days'].to_numpy()+df_regression['respiration_non_inv_days'].to_numpy()\n",
    "df_regression.insert(5, \"resp_support_days\", resp_support_days, True)\n",
    "\n",
    "# Change gender to numerical \n",
    "gender_dict = {'f':0, 'm':1}\n",
    "df_regression.replace({\"gender\": gender_dict}, inplace=True)\n",
    "\n",
    "# Create volume variable but normalized by the birth weight\n",
    "volume_per_kg= 1000*df_regression['volume'].to_numpy()/df_regression['birth_weight_g'].to_numpy()\n",
    "df_regression.insert(13, \"volume_per_kg\", volume_per_kg, True)\n",
    "\n",
    "# Create binary prediction variables\n",
    "binary_no_vs_all = df_regression['bpd_severity'].apply(lambda x: 0 if x < 1 else 1)\n",
    "df_regression.insert(15, \"bpd_no_vs_all\", binary_no_vs_all, True)\n"
   ]
  },
  {
   "cell_type": "markdown",
   "metadata": {},
   "source": [
    "# Nested Cross Validation - Multinomial"
   ]
  },
  {
   "cell_type": "code",
   "execution_count": 4,
   "metadata": {},
   "outputs": [],
   "source": [
    "def nested_cross_validation(X, y, depth_array, random_states, n_classes=4, n_splits_outer=5, n_splits_inner=5):\n",
    "\n",
    "    grid_best_scores = []\n",
    "    grid_best_p = []\n",
    "    model_auc = []\n",
    "    model_f1 = []\n",
    "    model_weights = []\n",
    "    outer_fold = []\n",
    "    repetition_n = []\n",
    "    \n",
    "    # Compute ROC curve and ROC area for each class\n",
    "    fpr_all = []\n",
    "    tpr_all = []\n",
    "    roc_auc_all = []\n",
    "\n",
    "        \n",
    "    for i in range(len(random_states)):\n",
    "        random_state_i = random_states[i]\n",
    "        p_grid = {\n",
    "            \"max_depth\": depth_array,\n",
    "                 }\n",
    "        \n",
    "        model_grid = RandomForestClassifier( \n",
    "            random_state=random_state_i\n",
    "        )\n",
    "\n",
    "        # OUTER FOLD\n",
    "        outter_cv = StratifiedKFold(n_splits=n_splits_outer, shuffle=True, random_state=random_state_i).split(X, y)\n",
    "        for j, (train, test) in enumerate(outter_cv):\n",
    "            x_train = X.loc[train]\n",
    "            y_train = y.loc[train]\n",
    "            x_test = X.loc[test]\n",
    "            y_test = y.loc[test]\n",
    "\n",
    "            # Inner Fold => Find the best parameter\n",
    "            inner_cv = KFold(n_splits=n_splits_inner, shuffle=True, random_state=random_state_i)\n",
    "            grid = GridSearchCV(estimator=model_grid, param_grid=p_grid, cv=inner_cv)\n",
    "            grid.fit(x_train,y_train)\n",
    "            grid_best_scores.append(grid.best_score_)\n",
    "            grid_best_p.append(grid.best_estimator_.max_depth)\n",
    "\n",
    "            # Use the best parameter of the inner fold on the test\n",
    "            model_rf = RandomForestClassifier(\n",
    "                random_state=random_state_i, \n",
    "                max_depth=grid.best_estimator_.max_depth\n",
    "            ).fit(x_train, y_train)\n",
    "\n",
    "            # Perform Predictions\n",
    "            y_predictions = model_rf.predict(x_test)\n",
    "            y_predict_proba = model_rf.predict_proba(x_test)\n",
    "            \n",
    "            # one hot encoding y_test\n",
    "            y_test_array = np.array(y_test)\n",
    "            nb_classes = 4\n",
    "            targets = y_test_array.reshape(-1)\n",
    "            one_hot_y_test = np.eye(nb_classes)[targets]\n",
    "            \n",
    "            roc_auc = roc_auc_score(one_hot_y_test, y_predict_proba, average='weighted')\n",
    "            f1_temp = f1_score(y_test, y_predictions, average='weighted')\n",
    "            \n",
    "            # Find FPR and TPR\n",
    "            temp_fpr = dict()\n",
    "            temp_tpr = dict()\n",
    "            temp_roc_auc = dict()\n",
    "            \n",
    "            for i in range (n_classes):\n",
    "                temp_fpr[i], temp_tpr[i], _ = roc_curve(one_hot_y_test[:, i], y_predict_proba[:, i])\n",
    "                temp_roc_auc[i] = auc(temp_fpr[i], temp_tpr[i]) \n",
    "            \n",
    "\n",
    "            model_auc.append(roc_auc)\n",
    "            model_f1.append(f1_temp)\n",
    "            model_weights.append(model_rf.feature_importances_)\n",
    "            \n",
    "            \n",
    "            fpr_all.append(temp_fpr)\n",
    "            tpr_all.append(temp_tpr)\n",
    "            roc_auc_all.append(temp_roc_auc)\n",
    "            \n",
    "            \n",
    "            outer_fold.append(j)\n",
    "            repetition_n.append(i)\n",
    "\n",
    "    df_results = pd.DataFrame.from_dict({\n",
    "    'repetition_n':repetition_n,\n",
    "    'outer_fold':outer_fold,\n",
    "    'grid_best_inner_score': grid_best_scores,\n",
    "    'grid_best_p': grid_best_p,\n",
    "    'model_auc': model_auc,\n",
    "    'model_f1': model_f1,\n",
    "    'model_weights':model_weights,\n",
    "    'fprs': fpr_all,\n",
    "    'tprs': tpr_all,\n",
    "    'roc_auc_all':roc_auc_all,\n",
    "    })\n",
    "\n",
    "    return df_results"
   ]
  },
  {
   "cell_type": "code",
   "execution_count": 5,
   "metadata": {},
   "outputs": [],
   "source": [
    "def get_avg_auc_and_f1(df_in, print_out=True):   \n",
    "    avg_by_repetition = df_in[['repetition_n','model_auc','model_f1']].groupby('repetition_n').mean()\n",
    "    std_by_repetition = df_in[['repetition_n','model_auc','model_f1']].groupby('repetition_n').std()\n",
    "    \n",
    "    avg_auc = np.mean(avg_by_repetition['model_auc'].to_numpy())\n",
    "    std_auc = np.mean(std_by_repetition['model_auc'].to_numpy())\n",
    "    avg_f1 = np.mean(avg_by_repetition['model_f1'].to_numpy())\n",
    "    std_f1 = np.mean(std_by_repetition['model_f1'].to_numpy())\n",
    "    \n",
    "    if print_out:\n",
    "        print('auc',avg_auc, '+/-', std_auc)\n",
    "        print('f1',avg_f1, '+/-', std_f1)\n",
    "    return avg_auc, std_auc, avg_f1, std_f1\n"
   ]
  },
  {
   "cell_type": "markdown",
   "metadata": {},
   "source": [
    "# Multinomial RF Classification"
   ]
  },
  {
   "cell_type": "code",
   "execution_count": 6,
   "metadata": {},
   "outputs": [],
   "source": [
    "random_array = [641,752,710,639,782,873,700,84,679,246] \n",
    "tree_depth = [3,4,5,6,7,8,9,10,11,12,13,14,15]"
   ]
  },
  {
   "cell_type": "markdown",
   "metadata": {},
   "source": [
    "### Only Volume Features"
   ]
  },
  {
   "cell_type": "code",
   "execution_count": 7,
   "metadata": {},
   "outputs": [
    {
     "name": "stdout",
     "output_type": "stream",
     "text": [
      "auc 0.7265046127144061 +/- 0.08491234724839322\n",
      "f1 0.48965433719932866 +/- 0.10369742263945105\n"
     ]
    }
   ],
   "source": [
    "explanatory = [\n",
    "    'volume_per_kg', 'volume_ratio', \n",
    "]\n",
    "\n",
    "y_in=df_regression['bpd_severity']\n",
    "X_in=df_regression[explanatory]\n",
    "\n",
    "multi_only_volume = nested_cross_validation(X_in, y_in, depth_array=tree_depth, random_states=random_array)\n",
    "avg_auc, std_auc, avg_f1, std_f1 = get_avg_auc_and_f1(multi_only_volume)\n"
   ]
  },
  {
   "cell_type": "markdown",
   "metadata": {},
   "source": [
    "###  Volume + Patient"
   ]
  },
  {
   "cell_type": "code",
   "execution_count": 8,
   "metadata": {},
   "outputs": [
    {
     "name": "stdout",
     "output_type": "stream",
     "text": [
      "auc 0.768370179279539 +/- 0.07694188694041201\n",
      "f1 0.5293468370480697 +/- 0.09491961492345906\n"
     ]
    }
   ],
   "source": [
    "explanatory = [\n",
    "    'gender', 'gest_age', 'birth_weight_g','body_size_cm',\n",
    "    'volume_per_kg', 'volume_ratio', \n",
    "]\n",
    "\n",
    "y_in=df_regression['bpd_severity']\n",
    "X_in=df_regression[explanatory]\n",
    "\n",
    "multi_volume_subject = nested_cross_validation(X_in, y_in, depth_array=tree_depth, random_states=random_array)\n",
    "avg_auc, std_auc, avg_f1, std_f1 = get_avg_auc_and_f1(multi_volume_subject)\n"
   ]
  },
  {
   "cell_type": "markdown",
   "metadata": {},
   "source": [
    "###  Volume + Patient + Clinical"
   ]
  },
  {
   "cell_type": "code",
   "execution_count": 9,
   "metadata": {},
   "outputs": [
    {
     "name": "stdout",
     "output_type": "stream",
     "text": [
      "auc 0.7722427874996153 +/- 0.0692978356189938\n",
      "f1 0.5387204692976034 +/- 0.08667646317311775\n"
     ]
    }
   ],
   "source": [
    "explanatory = [\n",
    "    'gender', 'gest_age', 'birth_weight_g','body_size_cm',\n",
    "    'apgar_5min','early_onset_infection', 'steroids',\n",
    "    'volume_per_kg', 'volume_ratio', \n",
    "]\n",
    "\n",
    "y_in=df_regression['bpd_severity']\n",
    "X_in=df_regression[explanatory]\n",
    "\n",
    "multi_volume_subject_clinical = nested_cross_validation(X_in, y_in, depth_array=tree_depth, random_states=random_array)\n",
    "avg_auc, std_auc, avg_f1, std_f1 = get_avg_auc_and_f1(multi_volume_subject_clinical)\n",
    "\n"
   ]
  },
  {
   "cell_type": "markdown",
   "metadata": {},
   "source": [
    "# Compare All"
   ]
  },
  {
   "cell_type": "code",
   "execution_count": 10,
   "metadata": {},
   "outputs": [],
   "source": [
    "aucs = np.concatenate([\n",
    "    multi_only_volume['model_auc'],\n",
    "    multi_volume_subject['model_auc'],\n",
    "    multi_volume_subject_clinical['model_auc'],\n",
    "])\n",
    "\n",
    "f1s = np.concatenate([\n",
    "    multi_only_volume['model_f1'],\n",
    "    multi_volume_subject['model_f1'],\n",
    "    multi_volume_subject_clinical['model_f1'],]\n",
    ")\n",
    "\n",
    "selected_features = np.concatenate([\n",
    "    np.repeat('V', len(multi_only_volume['model_auc'])),\n",
    "    np.repeat('V + S', len(multi_volume_subject['model_auc'])),\n",
    "    np.repeat('V + S + C', len(multi_volume_subject_clinical['model_auc'])),\n",
    "]) \n",
    "\n",
    "\n",
    "df_plot_results = pd.DataFrame.from_dict({\n",
    "    'auc':aucs,\n",
    "    'f1':f1s,\n",
    "    'Features': selected_features,\n",
    "})"
   ]
  },
  {
   "cell_type": "code",
   "execution_count": 11,
   "metadata": {},
   "outputs": [
    {
     "data": {
      "image/png": "[encoded data removed]",
      "text/plain": [
       "<Figure size 432x432 with 1 Axes>"
      ]
     },
     "metadata": {
      "needs_background": "light"
     },
     "output_type": "display_data"
    }
   ],
   "source": [
    "sns.set_context(\"paper\")\n",
    "font_s = 12\n",
    "\n",
    "\n",
    "f = plt.figure(figsize=(6, 6))\n",
    "gs = f.add_gridspec(1, 1)\n",
    "\n",
    "\n",
    "ax = f.add_subplot(gs[0])\n",
    "sns.boxplot(x='Features', y='auc',\n",
    "            data=df_plot_results, \n",
    "            palette = 'crest',\n",
    "            width = 0.5,\n",
    "           )\n",
    "sns.swarmplot(x='Features', y='auc',\n",
    "              data=df_plot_results,\n",
    "              color=\".25\",\n",
    "              alpha=0.5\n",
    "           )\n",
    "ax.set_title('RF Model for Multinomial BPD Prediction', fontsize = font_s)\n",
    "ax.set_ylabel('AUC', fontsize = font_s)\n",
    "ax.set_xlabel('Feature Group', fontsize = font_s)\n",
    "ax.set_ylim([0.450, 1.05])  \n",
    "\n",
    "ax.set_xticklabels(['V','V+P','V+P+C'], fontsize = 12)\n",
    "\n",
    "ax.set_axisbelow(True)\n",
    "ax.yaxis.grid(color='lightgray')\n",
    "\n",
    "\n",
    "#plt.savefig('MN_RF_AUC.pdf')\n",
    "plt.show()"
   ]
  },
  {
   "cell_type": "markdown",
   "metadata": {},
   "source": [
    "# ROC for RF Multiclass"
   ]
  },
  {
   "cell_type": "code",
   "execution_count": 12,
   "metadata": {},
   "outputs": [
    {
     "data": {
      "text/plain": [
       "Text(0, 0.5, 'True Positive Rate')"
      ]
     },
     "execution_count": 12,
     "metadata": {},
     "output_type": "execute_result"
    },
    {
     "data": {
      "image/png": "[encoded data removed]",
      "text/plain": [
       "<Figure size 432x432 with 1 Axes>"
      ]
     },
     "metadata": {
      "needs_background": "light"
     },
     "output_type": "display_data"
    }
   ],
   "source": [
    "df_results = multi_volume_subject_clinical\n",
    "\n",
    "n_classes = 4\n",
    "\n",
    "colors = ['darkblue', 'royalblue', 'lightskyblue', 'lightseagreen']\n",
    "labels = ['No-BPD', 'BPD Mild', 'BPD Moderate', 'BPD Severe']\n",
    "\n",
    "tprs = df_results['tprs']\n",
    "fprs = df_results['fprs']\n",
    "aucs = df_results['roc_auc_all']\n",
    "\n",
    "\n",
    "plot_mean_class_tpr = []\n",
    "plot_tprs_lower = []\n",
    "plot_tprs_upper = []\n",
    "plot_mean_class_aucs = []\n",
    "plot_std_class_aucs = []\n",
    "\n",
    "#Interpolate tprs to find average for ROC \n",
    "mean_fpr = np.linspace(0, 1, 100)\n",
    "for j in range(n_classes):\n",
    "    tprs_class_interp=[]\n",
    "    aucs_class=[]\n",
    "    for i in range(len(tprs)):\n",
    "        tpr_temp_class = tprs[i][j]\n",
    "        fpr_temp_class = fprs[i][j]\n",
    "        auc_temp_class = aucs[i][j]\n",
    "        \n",
    "        interp_tpr_temp = np.interp(mean_fpr, fpr_temp_class, tpr_temp_class)\n",
    "        tprs_class_interp.append(interp_tpr_temp)\n",
    "        aucs_class.append(auc_temp_class)\n",
    "        \n",
    "    mean_class_tpr = np.mean(tprs_class_interp, axis=0)\n",
    "    mean_class_tpr[-1] = 1.0\n",
    "    mean_class_tpr[0] = 0\n",
    "    plot_mean_class_tpr.append(mean_class_tpr)\n",
    "    \n",
    "    std_tpr = np.std(tprs_class_interp, axis=0)\n",
    "    tprs_upper = np.minimum(mean_class_tpr + std_tpr, 1)\n",
    "    tprs_lower = np.maximum(mean_class_tpr - std_tpr, 0)\n",
    "    plot_tprs_upper.append(tprs_upper)\n",
    "    plot_tprs_lower.append(tprs_lower)\n",
    "    \n",
    "    mean_class_auc = auc(mean_fpr, mean_class_tpr)\n",
    "    std_class_auc = np.std(aucs_class)\n",
    "    plot_mean_class_aucs.append(mean_class_auc)\n",
    "    plot_std_class_aucs.append(std_class_auc)\n",
    "    \n",
    "    \n",
    "    \n",
    "# Figure\n",
    "fig, ax = plt.subplots(figsize=(6, 6)) \n",
    "ax.plot([0, 1], [0, 1], linestyle='--', lw=1, color='grey', label='Chance', alpha=.8)\n",
    "for i in range(n_classes):\n",
    "    ax.fill_between(mean_fpr, plot_tprs_lower[i], plot_tprs_upper[i], \n",
    "                    color=colors[i], alpha=.1,\n",
    "                    label='_nolegend_',)\n",
    "\n",
    "for i in range(n_classes):    \n",
    "    ax.plot(mean_fpr, plot_mean_class_tpr[i], marker='.',color=colors[i],\n",
    "        label=labels[i]+r' (AUC = %0.3f $\\pm$ %0.3f)' % (plot_mean_class_aucs[i], plot_std_class_aucs[i]),\n",
    "        lw=2)\n",
    "\n",
    "ax.set(xlim=[-0.05, 1.05], ylim=[-0.05, 1.05],\n",
    "       title=\"ROC for Multinomial BPD Prediction with RF Model\")\n",
    "ax.legend(loc=\"lower right\")\n",
    "ax.set_xlabel(\"False Positive Rate\")\n",
    "ax.set_ylabel(\"True Positive Rate\")\n",
    "\n",
    "#plt.savefig(\"roc_bpd_multinomial_RF.pdf\")\n"
   ]
  }
 ],
 "metadata": {
  "kernelspec": {
   "display_name": "Python 3",
   "language": "python",
   "name": "python3"
  },
  "language_info": {
   "codemirror_mode": {
    "name": "ipython",
    "version": 3
   },
   "file_extension": ".py",
   "mimetype": "text/x-python",
   "name": "python",
   "nbconvert_exporter": "python",
   "pygments_lexer": "ipython3",
   "version": "3.8.8"
  }
 },
 "nbformat": 4,
 "nbformat_minor": 4
}